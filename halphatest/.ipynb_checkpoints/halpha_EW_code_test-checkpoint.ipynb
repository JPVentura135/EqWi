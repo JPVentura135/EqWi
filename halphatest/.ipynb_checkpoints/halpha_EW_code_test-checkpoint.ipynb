{
 "cells": [
  {
   "cell_type": "code",
   "execution_count": 1,
   "metadata": {
    "collapsed": true
   },
   "outputs": [],
   "source": [
    "from astropy.io import fits\n",
    "import matplotlib.pyplot as plt\n",
    "import pandas as pd\n",
    "import numpy as np"
   ]
  },
  {
   "cell_type": "code",
   "execution_count": 2,
   "metadata": {
    "collapsed": true
   },
   "outputs": [],
   "source": [
    "# Open fits file and assign to variable.\n",
    "datafile = fits.open('DR7_tot_6_0.fits')"
   ]
  },
  {
   "cell_type": "code",
   "execution_count": 3,
   "metadata": {},
   "outputs": [
    {
     "name": "stdout",
     "output_type": "stream",
     "text": [
      "Filename: DR7_tot_6_0.fits\n",
      "No.    Name      Ver    Type      Cards   Dimensions   Format\n",
      "  0  PRIMARY       1 PrimaryHDU       4   ()      \n",
      "  1                1 BinTableHDU    271   70841R x 127C   [I, J, I, 22A, D, D, 5E, 5E, 5E, D, E, E, E, E, E, E, E, E, E, E, E, E, E, E, E, E, E, E, E, E, E, E, E, E, E, E, E, E, E, E, E, E, E, E, E, E, E, E, E, E, E, E, E, E, I, E, E, I, I, I, I, I, E, E, E, E, I, E, I, E, E, D, D, D, D, E, E, E, E, E, E, D, E, E, E, E, E, E, E, E, E, E, E, E, E, E, E, E, I, I, I, I, I, I, I, E, E, E, E, E, E, E, E, E, E, E, E, I, E, E, E, E, E, E, I, E, E]   \n"
     ]
    }
   ],
   "source": [
    "# Inspect fits file summary to see which dataset to use by passing .info() method on the file variable.\n",
    "datafile.info()"
   ]
  },
  {
   "cell_type": "code",
   "execution_count": 4,
   "metadata": {
    "collapsed": true
   },
   "outputs": [],
   "source": [
    "# Assign header (dataset) in fits file to a variable. Inspect the column names by passing the .header method \n",
    "datahdr = datafile[1]\n",
    "datahdr.header"
   ]
  },
  {
   "cell_type": "code",
   "execution_count": 9,
   "metadata": {
    "collapsed": true
   },
   "outputs": [],
   "source": [
    "# Assign data columns to variables \n",
    "westplate   = datahdr.data['plate']  \n",
    "westmjd     = datahdr.data['mjd']\n",
    "westfiber   = datahdr.data['fiber']\n",
    "westEWHA    = datahdr.data['EWHA']\n",
    "westEWHAerr = datahdr.data['EWHAERR']"
   ]
  },
  {
   "cell_type": "code",
   "execution_count": 74,
   "metadata": {},
   "outputs": [],
   "source": [
    "# Entries in these columns are 16bit integer types but we want to convert them to strings in order to later assemble\n",
    "# them per the sloan object id description (i.e 'spec-<plate#>-<mjd>-<fiber#>')\n",
    "strplate = [] \n",
    "strmjd   = []\n",
    "strfiber = []\n",
    "for i in westplate:\n",
    "    strplate.append(str(i))\n",
    "\n",
    "for i in westmjd:\n",
    "    strmjd.append(str(i))\n",
    "    \n",
    "for i in westfiber:\n",
    "    strfiber.append(str(i))"
   ]
  },
  {
   "cell_type": "code",
   "execution_count": 75,
   "metadata": {},
   "outputs": [],
   "source": [
    "# The object id fiber number is always expressed as a zero padded 4-digit number. Here I write a loop to pad\n",
    "# the entries with zeros based on the entries length.\n",
    "zfilledfiber = []\n",
    "for i in strfiber:\n",
    "    if len(i) == 3:\n",
    "        i = '0' + i\n",
    "    elif len(i) == 2:\n",
    "        i = '00' + i\n",
    "    elif len(i) == 1:\n",
    "        i = '000' + i\n",
    "    zfilledfiber.append(i)\n",
    "    \n",
    "print(zfilledfiber)"
   ]
  },
  {
   "cell_type": "code",
   "execution_count": 80,
   "metadata": {},
   "outputs": [],
   "source": [
    "# multi-index for-loop to combine the column entries and reexpress in the form of the sloan object-id.\n",
    "objectid = []\n",
    "for i,j,k in zip(strplate,strmjd,zfilledfiber):\n",
    "    objectid.append('spec-' + i + '-' + j + '-' + k)\n",
    "\n",
    "print(objectid)"
   ]
  },
  {
   "cell_type": "code",
   "execution_count": 86,
   "metadata": {},
   "outputs": [],
   "source": [
    "# Now that the singular plate,mjd,and fiber columns have been correctly formatted into object id's \n",
    "# I'll then construct a simple dataframe for the Halpha equivalent widths of the west et al 2011 Mdwarf sample\n",
    "# for use in comparing my equivalent width code results against.\n",
    "datframe = pd.DataFrame(index=None)\n",
    "datframe['Sloan Object ID']  = objectid\n",
    "datframe['West2011 EWHA']    = westEWHA\n",
    "datframe['West2011 EWHAerr'] = westEWHAerr\n",
    "\n",
    "print(datframe)"
   ]
  },
  {
   "cell_type": "code",
   "execution_count": null,
   "metadata": {},
   "outputs": [],
   "source": []
  },
  {
   "cell_type": "code",
   "execution_count": null,
   "metadata": {
    "collapsed": true
   },
   "outputs": [],
   "source": []
  }
 ],
 "metadata": {
  "kernelspec": {
   "display_name": "Python 3",
   "language": "python",
   "name": "python3"
  },
  "language_info": {
   "codemirror_mode": {
    "name": "ipython",
    "version": 3
   },
   "file_extension": ".py",
   "mimetype": "text/x-python",
   "name": "python",
   "nbconvert_exporter": "python",
   "pygments_lexer": "ipython3",
   "version": "3.6.3"
  }
 },
 "nbformat": 4,
 "nbformat_minor": 2
}
